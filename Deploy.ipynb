{
 "cells": [
  {
   "cell_type": "code",
   "execution_count": 66,
   "id": "bbb7f6e2-e05a-4e4a-8621-7bfa4a1a1a69",
   "metadata": {},
   "outputs": [],
   "source": [
    "import pandas as pd\n",
    "import numpy as np\n",
    "import matplotlib.pyplot as plt\n",
    "import seaborn as sns\n",
    "import pickle\n",
    "from sklearn.ensemble import IsolationForest\n",
    "from sklearn.preprocessing import StandardScaler, QuantileTransformer\n",
    "from sklearn.feature_selection import f_classif, mutual_info_classif\n",
    "from sklearn.cluster import KMeans, MeanShift, estimate_bandwidth\n",
    "from sklearn.model_selection import train_test_split\n",
    "from sklearn.metrics import classification_report"
   ]
  },
  {
   "cell_type": "markdown",
   "id": "c22a030f-2a7d-4d73-a10f-849d2aca8d59",
   "metadata": {},
   "source": [
    "## Data Preprocessing"
   ]
  },
  {
   "cell_type": "code",
   "execution_count": 67,
   "id": "96ead95f-1646-4e71-acf3-42c94687b65b",
   "metadata": {},
   "outputs": [],
   "source": [
    "# Load Well 1 data\n",
    "well1_data = pd.read_excel('Volve.xlsx', sheet_name='well 1')\n",
    "\n",
    "# Logarithmic Transformation of GR and RT\n",
    "well1_data['RT_log'] = np.log10(well1_data['RT'])\n",
    "well1_data['GR_log'] = np.log10(well1_data['GR'])"
   ]
  },
  {
   "cell_type": "code",
   "execution_count": 68,
   "id": "a39dc3c4-c5da-4bd5-bf12-458d2fd4f905",
   "metadata": {},
   "outputs": [],
   "source": [
    "# Drop 'Well' column as it's not useful\n",
    "well1_data.drop('Well', axis=1, inplace=True)\n",
    "\n",
    "# Check for missing values\n",
    "if well1_data.isnull().any().any() or well1_data.isna().any().any():\n",
    "    print(\"There are missing values in the data.\")"
   ]
  },
  {
   "cell_type": "code",
   "execution_count": 69,
   "id": "c263af33-8899-42a2-a6cb-4189660cceb9",
   "metadata": {},
   "outputs": [
    {
     "data": {
      "text/html": [
       "<div>\n",
       "<style scoped>\n",
       "    .dataframe tbody tr th:only-of-type {\n",
       "        vertical-align: middle;\n",
       "    }\n",
       "\n",
       "    .dataframe tbody tr th {\n",
       "        vertical-align: top;\n",
       "    }\n",
       "\n",
       "    .dataframe thead th {\n",
       "        text-align: right;\n",
       "    }\n",
       "</style>\n",
       "<table border=\"1\" class=\"dataframe\">\n",
       "  <thead>\n",
       "    <tr style=\"text-align: right;\">\n",
       "      <th></th>\n",
       "      <th>Depth</th>\n",
       "      <th>GR</th>\n",
       "      <th>RT</th>\n",
       "      <th>RHOB</th>\n",
       "      <th>NPHI</th>\n",
       "      <th>RT_log</th>\n",
       "      <th>GR_log</th>\n",
       "    </tr>\n",
       "  </thead>\n",
       "  <tbody>\n",
       "    <tr>\n",
       "      <th>0</th>\n",
       "      <td>4175.5</td>\n",
       "      <td>20.6032</td>\n",
       "      <td>4.1812</td>\n",
       "      <td>2.6117</td>\n",
       "      <td>0.0770</td>\n",
       "      <td>0.621301</td>\n",
       "      <td>1.313935</td>\n",
       "    </tr>\n",
       "    <tr>\n",
       "      <th>1</th>\n",
       "      <td>4176.0</td>\n",
       "      <td>21.4990</td>\n",
       "      <td>4.5516</td>\n",
       "      <td>2.6131</td>\n",
       "      <td>0.0798</td>\n",
       "      <td>0.658164</td>\n",
       "      <td>1.332418</td>\n",
       "    </tr>\n",
       "    <tr>\n",
       "      <th>2</th>\n",
       "      <td>4176.5</td>\n",
       "      <td>22.4472</td>\n",
       "      <td>4.4804</td>\n",
       "      <td>2.6334</td>\n",
       "      <td>0.0801</td>\n",
       "      <td>0.651317</td>\n",
       "      <td>1.351162</td>\n",
       "    </tr>\n",
       "    <tr>\n",
       "      <th>3</th>\n",
       "      <td>4177.0</td>\n",
       "      <td>29.6713</td>\n",
       "      <td>4.3859</td>\n",
       "      <td>2.6328</td>\n",
       "      <td>0.1005</td>\n",
       "      <td>0.642059</td>\n",
       "      <td>1.472337</td>\n",
       "    </tr>\n",
       "    <tr>\n",
       "      <th>4</th>\n",
       "      <td>4177.5</td>\n",
       "      <td>34.7014</td>\n",
       "      <td>4.8566</td>\n",
       "      <td>2.6183</td>\n",
       "      <td>0.1001</td>\n",
       "      <td>0.686332</td>\n",
       "      <td>1.540347</td>\n",
       "    </tr>\n",
       "  </tbody>\n",
       "</table>\n",
       "</div>"
      ],
      "text/plain": [
       "    Depth       GR      RT    RHOB    NPHI    RT_log    GR_log\n",
       "0  4175.5  20.6032  4.1812  2.6117  0.0770  0.621301  1.313935\n",
       "1  4176.0  21.4990  4.5516  2.6131  0.0798  0.658164  1.332418\n",
       "2  4176.5  22.4472  4.4804  2.6334  0.0801  0.651317  1.351162\n",
       "3  4177.0  29.6713  4.3859  2.6328  0.1005  0.642059  1.472337\n",
       "4  4177.5  34.7014  4.8566  2.6183  0.1001  0.686332  1.540347"
      ]
     },
     "execution_count": 69,
     "metadata": {},
     "output_type": "execute_result"
    }
   ],
   "source": [
    "well1_data.head()"
   ]
  },
  {
   "cell_type": "code",
   "execution_count": 70,
   "id": "c572b174-f0e6-4db1-9a37-0fd824308aba",
   "metadata": {},
   "outputs": [],
   "source": [
    "well1_data['Magnitude_GR_RT'] = np.sqrt(well1_data['GR']**2 + well1_data['RT']**2)\n",
    "well1_data['Angle_GR_RT'] = np.arctan2(well1_data['RT'], well1_data['GR'])"
   ]
  },
  {
   "cell_type": "code",
   "execution_count": 71,
   "id": "59346069-4c7a-4805-bd7f-7b2ce451d92c",
   "metadata": {},
   "outputs": [],
   "source": [
    "well1_data.drop(['RT','GR'], inplace = True,axis = 1) # drop the original RT and GR"
   ]
  },
  {
   "cell_type": "code",
   "execution_count": 72,
   "id": "cfd8a801-5525-4e94-886a-1ed30d82c9ec",
   "metadata": {},
   "outputs": [
    {
     "data": {
      "text/html": [
       "<div>\n",
       "<style scoped>\n",
       "    .dataframe tbody tr th:only-of-type {\n",
       "        vertical-align: middle;\n",
       "    }\n",
       "\n",
       "    .dataframe tbody tr th {\n",
       "        vertical-align: top;\n",
       "    }\n",
       "\n",
       "    .dataframe thead th {\n",
       "        text-align: right;\n",
       "    }\n",
       "</style>\n",
       "<table border=\"1\" class=\"dataframe\">\n",
       "  <thead>\n",
       "    <tr style=\"text-align: right;\">\n",
       "      <th></th>\n",
       "      <th>Depth</th>\n",
       "      <th>RHOB</th>\n",
       "      <th>NPHI</th>\n",
       "      <th>RT_log</th>\n",
       "      <th>GR_log</th>\n",
       "      <th>Magnitude_GR_RT</th>\n",
       "      <th>Angle_GR_RT</th>\n",
       "    </tr>\n",
       "  </thead>\n",
       "  <tbody>\n",
       "    <tr>\n",
       "      <th>0</th>\n",
       "      <td>4175.5</td>\n",
       "      <td>2.6117</td>\n",
       "      <td>0.0770</td>\n",
       "      <td>0.621301</td>\n",
       "      <td>1.313935</td>\n",
       "      <td>21.023184</td>\n",
       "      <td>0.200220</td>\n",
       "    </tr>\n",
       "    <tr>\n",
       "      <th>1</th>\n",
       "      <td>4176.0</td>\n",
       "      <td>2.6131</td>\n",
       "      <td>0.0798</td>\n",
       "      <td>0.658164</td>\n",
       "      <td>1.332418</td>\n",
       "      <td>21.975533</td>\n",
       "      <td>0.208631</td>\n",
       "    </tr>\n",
       "    <tr>\n",
       "      <th>2</th>\n",
       "      <td>4176.5</td>\n",
       "      <td>2.6334</td>\n",
       "      <td>0.0801</td>\n",
       "      <td>0.651317</td>\n",
       "      <td>1.351162</td>\n",
       "      <td>22.889971</td>\n",
       "      <td>0.197008</td>\n",
       "    </tr>\n",
       "    <tr>\n",
       "      <th>3</th>\n",
       "      <td>4177.0</td>\n",
       "      <td>2.6328</td>\n",
       "      <td>0.1005</td>\n",
       "      <td>0.642059</td>\n",
       "      <td>1.472337</td>\n",
       "      <td>29.993702</td>\n",
       "      <td>0.146754</td>\n",
       "    </tr>\n",
       "    <tr>\n",
       "      <th>4</th>\n",
       "      <td>4177.5</td>\n",
       "      <td>2.6183</td>\n",
       "      <td>0.1001</td>\n",
       "      <td>0.686332</td>\n",
       "      <td>1.540347</td>\n",
       "      <td>35.039602</td>\n",
       "      <td>0.139051</td>\n",
       "    </tr>\n",
       "  </tbody>\n",
       "</table>\n",
       "</div>"
      ],
      "text/plain": [
       "    Depth    RHOB    NPHI    RT_log    GR_log  Magnitude_GR_RT  Angle_GR_RT\n",
       "0  4175.5  2.6117  0.0770  0.621301  1.313935        21.023184     0.200220\n",
       "1  4176.0  2.6131  0.0798  0.658164  1.332418        21.975533     0.208631\n",
       "2  4176.5  2.6334  0.0801  0.651317  1.351162        22.889971     0.197008\n",
       "3  4177.0  2.6328  0.1005  0.642059  1.472337        29.993702     0.146754\n",
       "4  4177.5  2.6183  0.1001  0.686332  1.540347        35.039602     0.139051"
      ]
     },
     "execution_count": 72,
     "metadata": {},
     "output_type": "execute_result"
    }
   ],
   "source": [
    "well1_data.head()"
   ]
  },
  {
   "cell_type": "code",
   "execution_count": 73,
   "id": "064070cb-e463-472b-a616-8d6228e68df3",
   "metadata": {},
   "outputs": [
    {
     "data": {
      "text/plain": [
       "(827, 7)"
      ]
     },
     "execution_count": 73,
     "metadata": {},
     "output_type": "execute_result"
    }
   ],
   "source": [
    "well1_data.shape"
   ]
  },
  {
   "cell_type": "code",
   "execution_count": 74,
   "id": "983d703d-a1cf-4c0e-b14d-578484340cbf",
   "metadata": {},
   "outputs": [],
   "source": [
    "from sklearn.ensemble import IsolationForest\n",
    "\n",
    "iforest = pickle.load(open('outlier.sav', 'rb'))\n",
    "\n",
    "label = iforest.predict(well1_data)\n",
    "\n",
    "data_i_x = well1_data[label == 1]"
   ]
  },
  {
   "cell_type": "code",
   "execution_count": 75,
   "id": "76533bd8-fb74-46f9-ab38-1a8fa1f17f73",
   "metadata": {},
   "outputs": [
    {
     "data": {
      "text/plain": [
       "(785, 7)"
      ]
     },
     "execution_count": 75,
     "metadata": {},
     "output_type": "execute_result"
    }
   ],
   "source": [
    "data_i_x.shape"
   ]
  },
  {
   "cell_type": "code",
   "execution_count": 76,
   "id": "df6e2b85-fad3-4251-9b38-0232eaa9c044",
   "metadata": {},
   "outputs": [],
   "source": [
    "from sklearn.preprocessing import StandardScaler\n",
    "ss = pickle.load(open('scale.sav', 'rb'))\n",
    "data_i_s = ss.fit_transform(well1_data)\n",
    "df_scaled = pd.DataFrame(data_i_s, columns=well1_data.columns, index=well1_data.index)"
   ]
  },
  {
   "cell_type": "code",
   "execution_count": 77,
   "id": "d1e72247-3334-4817-973d-9cbc0c36aee4",
   "metadata": {},
   "outputs": [
    {
     "data": {
      "text/html": [
       "<div>\n",
       "<style scoped>\n",
       "    .dataframe tbody tr th:only-of-type {\n",
       "        vertical-align: middle;\n",
       "    }\n",
       "\n",
       "    .dataframe tbody tr th {\n",
       "        vertical-align: top;\n",
       "    }\n",
       "\n",
       "    .dataframe thead th {\n",
       "        text-align: right;\n",
       "    }\n",
       "</style>\n",
       "<table border=\"1\" class=\"dataframe\">\n",
       "  <thead>\n",
       "    <tr style=\"text-align: right;\">\n",
       "      <th></th>\n",
       "      <th>Depth</th>\n",
       "      <th>RHOB</th>\n",
       "      <th>NPHI</th>\n",
       "      <th>RT_log</th>\n",
       "      <th>GR_log</th>\n",
       "      <th>Magnitude_GR_RT</th>\n",
       "      <th>Angle_GR_RT</th>\n",
       "    </tr>\n",
       "  </thead>\n",
       "  <tbody>\n",
       "    <tr>\n",
       "      <th>0</th>\n",
       "      <td>-1.729958</td>\n",
       "      <td>1.008883</td>\n",
       "      <td>-1.255419</td>\n",
       "      <td>0.854972</td>\n",
       "      <td>-2.054739</td>\n",
       "      <td>-1.083616</td>\n",
       "      <td>0.570038</td>\n",
       "    </tr>\n",
       "    <tr>\n",
       "      <th>1</th>\n",
       "      <td>-1.725769</td>\n",
       "      <td>1.020284</td>\n",
       "      <td>-1.220298</td>\n",
       "      <td>0.940306</td>\n",
       "      <td>-1.950643</td>\n",
       "      <td>-1.052268</td>\n",
       "      <td>0.613112</td>\n",
       "    </tr>\n",
       "    <tr>\n",
       "      <th>2</th>\n",
       "      <td>-1.721580</td>\n",
       "      <td>1.185606</td>\n",
       "      <td>-1.216535</td>\n",
       "      <td>0.924455</td>\n",
       "      <td>-1.845081</td>\n",
       "      <td>-1.022169</td>\n",
       "      <td>0.553590</td>\n",
       "    </tr>\n",
       "    <tr>\n",
       "      <th>3</th>\n",
       "      <td>-1.717391</td>\n",
       "      <td>1.180719</td>\n",
       "      <td>-0.960649</td>\n",
       "      <td>0.903024</td>\n",
       "      <td>-1.162648</td>\n",
       "      <td>-0.788346</td>\n",
       "      <td>0.296238</td>\n",
       "    </tr>\n",
       "    <tr>\n",
       "      <th>4</th>\n",
       "      <td>-1.713203</td>\n",
       "      <td>1.062633</td>\n",
       "      <td>-0.965666</td>\n",
       "      <td>1.005512</td>\n",
       "      <td>-0.779626</td>\n",
       "      <td>-0.622257</td>\n",
       "      <td>0.256792</td>\n",
       "    </tr>\n",
       "  </tbody>\n",
       "</table>\n",
       "</div>"
      ],
      "text/plain": [
       "      Depth      RHOB      NPHI    RT_log    GR_log  Magnitude_GR_RT  \\\n",
       "0 -1.729958  1.008883 -1.255419  0.854972 -2.054739        -1.083616   \n",
       "1 -1.725769  1.020284 -1.220298  0.940306 -1.950643        -1.052268   \n",
       "2 -1.721580  1.185606 -1.216535  0.924455 -1.845081        -1.022169   \n",
       "3 -1.717391  1.180719 -0.960649  0.903024 -1.162648        -0.788346   \n",
       "4 -1.713203  1.062633 -0.965666  1.005512 -0.779626        -0.622257   \n",
       "\n",
       "   Angle_GR_RT  \n",
       "0     0.570038  \n",
       "1     0.613112  \n",
       "2     0.553590  \n",
       "3     0.296238  \n",
       "4     0.256792  "
      ]
     },
     "execution_count": 77,
     "metadata": {},
     "output_type": "execute_result"
    }
   ],
   "source": [
    "df_scaled.head()"
   ]
  },
  {
   "cell_type": "code",
   "execution_count": 78,
   "id": "349b4fb1-b5c1-4f9e-86f8-f03d02c7aa38",
   "metadata": {},
   "outputs": [],
   "source": [
    "F = pickle.load(open('Deploy_F_Values.sav', 'rb'))\n",
    "mi = pickle.load(open('Deploy_mi_Values.sav', 'rb'))\n",
    "mask = (F>300)|(mi>0.36)"
   ]
  },
  {
   "cell_type": "code",
   "execution_count": 79,
   "id": "dff98585-3e6f-4dd0-869d-43652294985a",
   "metadata": {},
   "outputs": [
    {
     "name": "stdout",
     "output_type": "stream",
     "text": [
      "X post f and mi filter=  (827, 6)\n"
     ]
    }
   ],
   "source": [
    "x_assoc = df_scaled.iloc[:, mask]\n",
    "print('X post f and mi filter= ', x_assoc.shape)"
   ]
  },
  {
   "cell_type": "code",
   "execution_count": 80,
   "id": "d4735795-5b5c-4be7-b3c4-0f2249724b5f",
   "metadata": {},
   "outputs": [],
   "source": [
    "from sklearn.preprocessing import QuantileTransformer\n",
    "\n",
    "qt = pickle.load(open('Deploy_QT.sav', 'rb'))\n",
    "\n",
    "x_assoc_transformed = qt.fit_transform(x_assoc)"
   ]
  },
  {
   "cell_type": "code",
   "execution_count": 81,
   "id": "940054dd-cb62-4f85-be2e-bba25d4fa83b",
   "metadata": {},
   "outputs": [
    {
     "name": "stdout",
     "output_type": "stream",
     "text": [
      "Transformed features shape: (827, 6)\n"
     ]
    },
    {
     "data": {
      "text/html": [
       "<div>\n",
       "<style scoped>\n",
       "    .dataframe tbody tr th:only-of-type {\n",
       "        vertical-align: middle;\n",
       "    }\n",
       "\n",
       "    .dataframe tbody tr th {\n",
       "        vertical-align: top;\n",
       "    }\n",
       "\n",
       "    .dataframe thead th {\n",
       "        text-align: right;\n",
       "    }\n",
       "</style>\n",
       "<table border=\"1\" class=\"dataframe\">\n",
       "  <thead>\n",
       "    <tr style=\"text-align: right;\">\n",
       "      <th></th>\n",
       "      <th>Depth</th>\n",
       "      <th>RHOB</th>\n",
       "      <th>NPHI</th>\n",
       "      <th>GR_log</th>\n",
       "      <th>Magnitude_GR_RT</th>\n",
       "      <th>Angle_GR_RT</th>\n",
       "    </tr>\n",
       "  </thead>\n",
       "  <tbody>\n",
       "    <tr>\n",
       "      <th>0</th>\n",
       "      <td>0.000000</td>\n",
       "      <td>0.858165</td>\n",
       "      <td>0.026096</td>\n",
       "      <td>0.028323</td>\n",
       "      <td>0.015153</td>\n",
       "      <td>0.906037</td>\n",
       "    </tr>\n",
       "    <tr>\n",
       "      <th>1</th>\n",
       "      <td>0.001211</td>\n",
       "      <td>0.861887</td>\n",
       "      <td>0.031867</td>\n",
       "      <td>0.031458</td>\n",
       "      <td>0.018195</td>\n",
       "      <td>0.911439</td>\n",
       "    </tr>\n",
       "    <tr>\n",
       "      <th>2</th>\n",
       "      <td>0.002421</td>\n",
       "      <td>0.926504</td>\n",
       "      <td>0.032674</td>\n",
       "      <td>0.037172</td>\n",
       "      <td>0.021647</td>\n",
       "      <td>0.903121</td>\n",
       "    </tr>\n",
       "    <tr>\n",
       "      <th>3</th>\n",
       "      <td>0.003632</td>\n",
       "      <td>0.924032</td>\n",
       "      <td>0.089345</td>\n",
       "      <td>0.093443</td>\n",
       "      <td>0.071129</td>\n",
       "      <td>0.868157</td>\n",
       "    </tr>\n",
       "    <tr>\n",
       "      <th>4</th>\n",
       "      <td>0.004843</td>\n",
       "      <td>0.878863</td>\n",
       "      <td>0.088270</td>\n",
       "      <td>0.176691</td>\n",
       "      <td>0.162591</td>\n",
       "      <td>0.862850</td>\n",
       "    </tr>\n",
       "  </tbody>\n",
       "</table>\n",
       "</div>"
      ],
      "text/plain": [
       "      Depth      RHOB      NPHI    GR_log  Magnitude_GR_RT  Angle_GR_RT\n",
       "0  0.000000  0.858165  0.026096  0.028323         0.015153     0.906037\n",
       "1  0.001211  0.861887  0.031867  0.031458         0.018195     0.911439\n",
       "2  0.002421  0.926504  0.032674  0.037172         0.021647     0.903121\n",
       "3  0.003632  0.924032  0.089345  0.093443         0.071129     0.868157\n",
       "4  0.004843  0.878863  0.088270  0.176691         0.162591     0.862850"
      ]
     },
     "execution_count": 81,
     "metadata": {},
     "output_type": "execute_result"
    }
   ],
   "source": [
    "# Checking the shape and perhaps the first few rows to verify everything went as expected\n",
    "print(\"Transformed features shape:\", x_assoc_transformed.shape)\n",
    "\n",
    "#Convert back to a DataFrame for further use with column names\n",
    "x_assoc_transformed_df = pd.DataFrame(x_assoc_transformed, columns=x_assoc.columns, index=x_assoc.index)\n",
    "x_assoc_transformed_df.head()"
   ]
  },
  {
   "cell_type": "code",
   "execution_count": 82,
   "id": "9e209cd5-67c7-470c-82da-9fc9d381cbd2",
   "metadata": {},
   "outputs": [],
   "source": [
    "kmeans = pickle.load(open('Deploy_Kmeans_Labels.sav', 'rb'))\n",
    "# Apply Mean Shift with the estimated bandwidth\n",
    "mean_shift = pickle.load(open('Deploy_Meanshift_Labels.sav', 'rb'))\n",
    "\n",
    "# Apply clustering model to generate labels for testing data\n",
    "test_kmeans_labels = kmeans.predict(x_assoc_transformed_df)\n",
    "test_meanshift_labels = mean_shift.predict(x_assoc_transformed_df)\n",
    "\n",
    "x_assoc_transformed_df['cluster_kmeans'] = test_kmeans_labels\n",
    "x_assoc_transformed_df['cluster_meanshift'] = test_meanshift_labels"
   ]
  },
  {
   "cell_type": "code",
   "execution_count": 83,
   "id": "f99b1201-3348-41e8-ba9b-41f7efaeea35",
   "metadata": {},
   "outputs": [
    {
     "data": {
      "text/html": [
       "<div>\n",
       "<style scoped>\n",
       "    .dataframe tbody tr th:only-of-type {\n",
       "        vertical-align: middle;\n",
       "    }\n",
       "\n",
       "    .dataframe tbody tr th {\n",
       "        vertical-align: top;\n",
       "    }\n",
       "\n",
       "    .dataframe thead th {\n",
       "        text-align: right;\n",
       "    }\n",
       "</style>\n",
       "<table border=\"1\" class=\"dataframe\">\n",
       "  <thead>\n",
       "    <tr style=\"text-align: right;\">\n",
       "      <th></th>\n",
       "      <th>Depth</th>\n",
       "      <th>RHOB</th>\n",
       "      <th>NPHI</th>\n",
       "      <th>GR_log</th>\n",
       "      <th>Magnitude_GR_RT</th>\n",
       "      <th>Angle_GR_RT</th>\n",
       "      <th>cluster_kmeans</th>\n",
       "      <th>cluster_meanshift</th>\n",
       "    </tr>\n",
       "  </thead>\n",
       "  <tbody>\n",
       "    <tr>\n",
       "      <th>0</th>\n",
       "      <td>0.000000</td>\n",
       "      <td>0.858165</td>\n",
       "      <td>0.026096</td>\n",
       "      <td>0.028323</td>\n",
       "      <td>0.015153</td>\n",
       "      <td>0.906037</td>\n",
       "      <td>3</td>\n",
       "      <td>1</td>\n",
       "    </tr>\n",
       "    <tr>\n",
       "      <th>1</th>\n",
       "      <td>0.001211</td>\n",
       "      <td>0.861887</td>\n",
       "      <td>0.031867</td>\n",
       "      <td>0.031458</td>\n",
       "      <td>0.018195</td>\n",
       "      <td>0.911439</td>\n",
       "      <td>3</td>\n",
       "      <td>1</td>\n",
       "    </tr>\n",
       "    <tr>\n",
       "      <th>2</th>\n",
       "      <td>0.002421</td>\n",
       "      <td>0.926504</td>\n",
       "      <td>0.032674</td>\n",
       "      <td>0.037172</td>\n",
       "      <td>0.021647</td>\n",
       "      <td>0.903121</td>\n",
       "      <td>3</td>\n",
       "      <td>1</td>\n",
       "    </tr>\n",
       "    <tr>\n",
       "      <th>3</th>\n",
       "      <td>0.003632</td>\n",
       "      <td>0.924032</td>\n",
       "      <td>0.089345</td>\n",
       "      <td>0.093443</td>\n",
       "      <td>0.071129</td>\n",
       "      <td>0.868157</td>\n",
       "      <td>3</td>\n",
       "      <td>1</td>\n",
       "    </tr>\n",
       "    <tr>\n",
       "      <th>4</th>\n",
       "      <td>0.004843</td>\n",
       "      <td>0.878863</td>\n",
       "      <td>0.088270</td>\n",
       "      <td>0.176691</td>\n",
       "      <td>0.162591</td>\n",
       "      <td>0.862850</td>\n",
       "      <td>3</td>\n",
       "      <td>1</td>\n",
       "    </tr>\n",
       "  </tbody>\n",
       "</table>\n",
       "</div>"
      ],
      "text/plain": [
       "      Depth      RHOB      NPHI    GR_log  Magnitude_GR_RT  Angle_GR_RT  \\\n",
       "0  0.000000  0.858165  0.026096  0.028323         0.015153     0.906037   \n",
       "1  0.001211  0.861887  0.031867  0.031458         0.018195     0.911439   \n",
       "2  0.002421  0.926504  0.032674  0.037172         0.021647     0.903121   \n",
       "3  0.003632  0.924032  0.089345  0.093443         0.071129     0.868157   \n",
       "4  0.004843  0.878863  0.088270  0.176691         0.162591     0.862850   \n",
       "\n",
       "   cluster_kmeans  cluster_meanshift  \n",
       "0               3                  1  \n",
       "1               3                  1  \n",
       "2               3                  1  \n",
       "3               3                  1  \n",
       "4               3                  1  "
      ]
     },
     "execution_count": 83,
     "metadata": {},
     "output_type": "execute_result"
    }
   ],
   "source": [
    "x_assoc_transformed_df.head()"
   ]
  },
  {
   "cell_type": "code",
   "execution_count": 84,
   "id": "8c54b187-dc14-4123-895a-7331e81208ab",
   "metadata": {},
   "outputs": [
    {
     "data": {
      "text/plain": [
       "(827, 8)"
      ]
     },
     "execution_count": 84,
     "metadata": {},
     "output_type": "execute_result"
    }
   ],
   "source": [
    "x_assoc_transformed_df.shape"
   ]
  },
  {
   "cell_type": "markdown",
   "id": "558fe7d8-f0bf-4044-99d5-efe71b9ece21",
   "metadata": {},
   "source": [
    "## Deployment"
   ]
  },
  {
   "cell_type": "code",
   "execution_count": 85,
   "id": "9554fd59-c959-431d-bdab-30547250b462",
   "metadata": {},
   "outputs": [],
   "source": [
    "rfr_best_model = pickle.load(open('Deploy_Random_Forest_Model_best.sav', 'rb'))\n",
    "gb_second_best_model = pickle.load(open('Deploy_Gradient_Boosting_Model_secondbest.sav', 'rb'))\n",
    "nn_third_best_model = pickle.load(open('Deploy_Neural_Network_Model_thirdbest.sav', 'rb'))"
   ]
  },
  {
   "cell_type": "code",
   "execution_count": 86,
   "id": "f9088c40-2c6e-47d9-bb39-cff28d1b1e12",
   "metadata": {},
   "outputs": [
    {
     "data": {
      "text/html": [
       "<div>\n",
       "<style scoped>\n",
       "    .dataframe tbody tr th:only-of-type {\n",
       "        vertical-align: middle;\n",
       "    }\n",
       "\n",
       "    .dataframe tbody tr th {\n",
       "        vertical-align: top;\n",
       "    }\n",
       "\n",
       "    .dataframe thead th {\n",
       "        text-align: right;\n",
       "    }\n",
       "</style>\n",
       "<table border=\"1\" class=\"dataframe\">\n",
       "  <thead>\n",
       "    <tr style=\"text-align: right;\">\n",
       "      <th></th>\n",
       "      <th>Depth</th>\n",
       "      <th>RHOB</th>\n",
       "      <th>NPHI</th>\n",
       "      <th>GR_log</th>\n",
       "      <th>Magnitude_GR_RT</th>\n",
       "      <th>Angle_GR_RT</th>\n",
       "      <th>cluster_kmeans</th>\n",
       "      <th>cluster_meanshift</th>\n",
       "    </tr>\n",
       "  </thead>\n",
       "  <tbody>\n",
       "    <tr>\n",
       "      <th>0</th>\n",
       "      <td>0.000000</td>\n",
       "      <td>0.858165</td>\n",
       "      <td>0.026096</td>\n",
       "      <td>0.028323</td>\n",
       "      <td>0.015153</td>\n",
       "      <td>0.906037</td>\n",
       "      <td>3</td>\n",
       "      <td>1</td>\n",
       "    </tr>\n",
       "    <tr>\n",
       "      <th>1</th>\n",
       "      <td>0.001211</td>\n",
       "      <td>0.861887</td>\n",
       "      <td>0.031867</td>\n",
       "      <td>0.031458</td>\n",
       "      <td>0.018195</td>\n",
       "      <td>0.911439</td>\n",
       "      <td>3</td>\n",
       "      <td>1</td>\n",
       "    </tr>\n",
       "    <tr>\n",
       "      <th>2</th>\n",
       "      <td>0.002421</td>\n",
       "      <td>0.926504</td>\n",
       "      <td>0.032674</td>\n",
       "      <td>0.037172</td>\n",
       "      <td>0.021647</td>\n",
       "      <td>0.903121</td>\n",
       "      <td>3</td>\n",
       "      <td>1</td>\n",
       "    </tr>\n",
       "    <tr>\n",
       "      <th>3</th>\n",
       "      <td>0.003632</td>\n",
       "      <td>0.924032</td>\n",
       "      <td>0.089345</td>\n",
       "      <td>0.093443</td>\n",
       "      <td>0.071129</td>\n",
       "      <td>0.868157</td>\n",
       "      <td>3</td>\n",
       "      <td>1</td>\n",
       "    </tr>\n",
       "    <tr>\n",
       "      <th>4</th>\n",
       "      <td>0.004843</td>\n",
       "      <td>0.878863</td>\n",
       "      <td>0.088270</td>\n",
       "      <td>0.176691</td>\n",
       "      <td>0.162591</td>\n",
       "      <td>0.862850</td>\n",
       "      <td>3</td>\n",
       "      <td>1</td>\n",
       "    </tr>\n",
       "  </tbody>\n",
       "</table>\n",
       "</div>"
      ],
      "text/plain": [
       "      Depth      RHOB      NPHI    GR_log  Magnitude_GR_RT  Angle_GR_RT  \\\n",
       "0  0.000000  0.858165  0.026096  0.028323         0.015153     0.906037   \n",
       "1  0.001211  0.861887  0.031867  0.031458         0.018195     0.911439   \n",
       "2  0.002421  0.926504  0.032674  0.037172         0.021647     0.903121   \n",
       "3  0.003632  0.924032  0.089345  0.093443         0.071129     0.868157   \n",
       "4  0.004843  0.878863  0.088270  0.176691         0.162591     0.862850   \n",
       "\n",
       "   cluster_kmeans  cluster_meanshift  \n",
       "0               3                  1  \n",
       "1               3                  1  \n",
       "2               3                  1  \n",
       "3               3                  1  \n",
       "4               3                  1  "
      ]
     },
     "execution_count": 86,
     "metadata": {},
     "output_type": "execute_result"
    }
   ],
   "source": [
    "x_assoc_transformed_df.head()"
   ]
  },
  {
   "cell_type": "code",
   "execution_count": 87,
   "id": "a7564827-343c-4f11-ad04-242526db0d6d",
   "metadata": {},
   "outputs": [],
   "source": [
    "# Predictions\n",
    "predictions_rfr = rfr_best_model.predict(x_assoc_transformed_df)\n",
    "predictions_gb = gb_second_best_model.predict(x_assoc_transformed_df)\n",
    "predictions_nn = nn_third_best_model.predict(x_assoc_transformed_df)"
   ]
  },
  {
   "cell_type": "code",
   "execution_count": 88,
   "id": "d0f6f7f6-9061-487e-9b43-b71edc71d8e4",
   "metadata": {},
   "outputs": [
    {
     "data": {
      "image/png": "[encoded data removed]",
      "text/plain": [
       "<Figure size 1000x1500 with 3 Axes>"
      ]
     },
     "metadata": {},
     "output_type": "display_data"
    }
   ],
   "source": [
    "import matplotlib.pyplot as plt\n",
    "import numpy as np\n",
    "\n",
    "# Define categories and their mappings\n",
    "categories = {'CB': 0, 'SS': 1, 'SH': 2, 'UN': 3}\n",
    "category_colors = np.array(['blue', 'green', 'red', 'purple'])  # Assign colors\n",
    "\n",
    "# Prepare numeric predictions for plotting\n",
    "predictions_rfr_numeric = [categories[pred] for pred in predictions_rfr]\n",
    "predictions_gb_numeric = [categories[pred] for pred in predictions_gb]\n",
    "predictions_nn_numeric = [categories[pred] for pred in predictions_nn]\n",
    "\n",
    "# Create a figure with subplots\n",
    "fig, ax = plt.subplots(3, 1, figsize=(10, 15))\n",
    "\n",
    "# Plot each set of predictions\n",
    "for i, (predictions, title) in enumerate(zip([predictions_rfr_numeric, predictions_gb_numeric, predictions_nn_numeric], ['Random Forest', 'Gradient Boosting', 'Neural Network'])):\n",
    "    scatter = ax[i].scatter(x_assoc_transformed_df['Depth'], predictions, c=category_colors[predictions], label=f'{title} Predictions')\n",
    "    ax[i].set_title(f'{title} Predictions vs. Depth')\n",
    "    ax[i].set_xlabel('Depth')\n",
    "    ax[i].set_ylabel('Predictions')\n",
    "\n",
    "    # Create a custom legend\n",
    "    from matplotlib.lines import Line2D\n",
    "    legend_elements = [Line2D([0], [0], marker='o', color='w', label=facies,\n",
    "                              markerfacecolor=color, markersize=10) for facies, color in zip(categories, category_colors)]\n",
    "    ax[i].legend(handles=legend_elements, title=\"Facies\")\n",
    "\n",
    "plt.tight_layout()\n",
    "plt.show()"
   ]
  },
  {
   "cell_type": "markdown",
   "id": "81d687fa-f4f5-47d3-aee7-0f7839efca5a",
   "metadata": {},
   "source": [
    "## Export the predictions of the 3 top-performing models for Well 1 along with depth and GR log to a separate XLS file (Prediction.xlsx)"
   ]
  },
  {
   "cell_type": "code",
   "execution_count": 89,
   "id": "4074ec69-0d1b-494c-b495-ba3a7485b8d6",
   "metadata": {},
   "outputs": [
    {
     "name": "stderr",
     "output_type": "stream",
     "text": [
      "/var/folders/tt/nhzdgbqx6z1_g0ltcwqr_nsh0000gn/T/ipykernel_6320/4191995695.py:14: SettingWithCopyWarning: \n",
      "A value is trying to be set on a copy of a slice from a DataFrame.\n",
      "Try using .loc[row_indexer,col_indexer] = value instead\n",
      "\n",
      "See the caveats in the documentation: https://pandas.pydata.org/pandas-docs/stable/user_guide/indexing.html#returning-a-view-versus-a-copy\n",
      "  export_df['GR'] = 10 ** export_df['GR_log']\n"
     ]
    }
   ],
   "source": [
    "import pandas as pd\n",
    "\n",
    "# 'predictions_rfr', 'predictions_gb', and 'predictions_nn' are model predictions for Well 1\n",
    "# and 'x_assoc_transformed_df' is DataFrame that includes 'Depth' and 'GR_log'\n",
    "\n",
    "# Add model predictions to the DataFrame\n",
    "x_assoc_transformed_df['Predictions_RF'] = predictions_rfr\n",
    "x_assoc_transformed_df['Predictions_GB'] = predictions_gb\n",
    "x_assoc_transformed_df['Predictions_NN'] = predictions_nn\n",
    "\n",
    "# Select the necessary columns to export\n",
    "export_columns = ['Depth', 'GR_log', 'Predictions_RF', 'Predictions_GB', 'Predictions_NN']\n",
    "export_df = x_assoc_transformed_df[export_columns]\n",
    "export_df['GR'] = 10 ** export_df['GR_log']"
   ]
  },
  {
   "cell_type": "code",
   "execution_count": 90,
   "id": "30cf73db-9b17-403b-b18c-977efa51d21e",
   "metadata": {},
   "outputs": [],
   "source": [
    "# Make sure to install openpyxl if not already installed:\n",
    "# pip install openpyxl\n",
    "\n",
    "# Export DataFrame to Excel\n",
    "export_df.to_excel('Prediction.xlsx', index=False, engine='openpyxl')"
   ]
  },
  {
   "cell_type": "code",
   "execution_count": null,
   "id": "04282ace-f6cd-48a8-9542-d3e677a5182f",
   "metadata": {},
   "outputs": [],
   "source": []
  }
 ],
 "metadata": {
  "kernelspec": {
   "display_name": "Python 3 (ipykernel)",
   "language": "python",
   "name": "python3"
  },
  "language_info": {
   "codemirror_mode": {
    "name": "ipython",
    "version": 3
   },
   "file_extension": ".py",
   "mimetype": "text/x-python",
   "name": "python",
   "nbconvert_exporter": "python",
   "pygments_lexer": "ipython3",
   "version": "3.12.0"
  }
 },
 "nbformat": 4,
 "nbformat_minor": 5
}
